{
 "cells": [
  {
   "cell_type": "markdown",
   "metadata": {},
   "source": [
    "# Getting a better understanding of JSON files\n",
    "Just messing about here..."
   ]
  },
  {
   "cell_type": "code",
   "execution_count": 1,
   "metadata": {},
   "outputs": [],
   "source": [
    "import json"
   ]
  },
  {
   "cell_type": "code",
   "execution_count": 10,
   "metadata": {},
   "outputs": [],
   "source": [
    "with open('D:\\Git\\Python\\Formation\\FTP\\BMW approved used car check-12763\\Form-99889\\BMW approved used car check.json') as f:\n",
    "    data = json.load(f)"
   ]
  },
  {
   "cell_type": "code",
   "execution_count": 11,
   "metadata": {
    "collapsed": true
   },
   "outputs": [
    {
     "name": "stdout",
     "output_type": "stream",
     "text": [
      "19\n",
      "23\n",
      "26\n",
      "6\n",
      "21\n",
      "3\n",
      "5\n",
      "22\n",
      "8\n",
      "14\n",
      "17\n",
      "9\n",
      "15\n",
      "10\n",
      "1\n",
      "submitted\n",
      "30\n",
      "4\n",
      "18\n",
      "16\n",
      "12\n",
      "24\n",
      "28\n",
      "31\n",
      "25\n",
      "20\n",
      "29\n",
      "33\n",
      "35\n",
      "32\n",
      "11\n",
      "13\n",
      "7\n"
     ]
    }
   ],
   "source": [
    "for d in data:\n",
    "    print(d)\n",
    "    "
   ]
  },
  {
   "cell_type": "code",
   "execution_count": 12,
   "metadata": {},
   "outputs": [
    {
     "name": "stdout",
     "output_type": "stream",
     "text": [
      "\n",
      "Specific field extract\n",
      "ab12cde\n"
     ]
    }
   ],
   "source": [
    "print('\\nSpecific field extract')\n",
    "print(data['8'])"
   ]
  },
  {
   "cell_type": "code",
   "execution_count": 13,
   "metadata": {},
   "outputs": [
    {
     "name": "stdout",
     "output_type": "stream",
     "text": [
      "{'31[Issue_2_Fault_description]': 'Some description here', '31[Issue_2_Image]': '', '31[Issue_1_Notes]': '', '31[Issue_3_Image]': '', '31[Issue_3_Fault_description]': '', '31[Issue_1_Severity]': '', '31[Issue_3_Severity]': '', '31[Issue_1_Fault_description]': '', '31[Issue_3_Notes]': '', '31[Issue_2_Notes]': '', '31[Issue_2_Severity]': '', '31[Issue_1_Image]': ''}\n"
     ]
    }
   ],
   "source": [
    "print(data['31'])"
   ]
  },
  {
   "cell_type": "code",
   "execution_count": 14,
   "metadata": {},
   "outputs": [
    {
     "name": "stdout",
     "output_type": "stream",
     "text": [
      "Some description here\n"
     ]
    }
   ],
   "source": [
    "print(data['31']['31[Issue_2_Fault_description]'])"
   ]
  },
  {
   "cell_type": "code",
   "execution_count": 22,
   "metadata": {},
   "outputs": [],
   "source": [
    "s = 'Test|Part'"
   ]
  },
  {
   "cell_type": "code",
   "execution_count": 23,
   "metadata": {},
   "outputs": [
    {
     "name": "stdout",
     "output_type": "stream",
     "text": [
      "['Test', 'Part']\n"
     ]
    }
   ],
   "source": [
    "print(s.split('|'))"
   ]
  },
  {
   "cell_type": "code",
   "execution_count": 24,
   "metadata": {},
   "outputs": [
    {
     "name": "stdout",
     "output_type": "stream",
     "text": [
      "Some description here\n"
     ]
    }
   ],
   "source": [
    "s = '31|31[Issue_2_Fault_description]'\n",
    "h = s.split('|')\n",
    "d = data\n",
    "for ref in h[0:len(h)-1]:\n",
    "    d = data[ref]\n",
    "print(d[h[len(h)-1]])"
   ]
  },
  {
   "cell_type": "code",
   "execution_count": 25,
   "metadata": {},
   "outputs": [
    {
     "name": "stdout",
     "output_type": "stream",
     "text": [
      "ab12cde\n"
     ]
    }
   ],
   "source": [
    "s = '8'\n",
    "h = s.split('|')\n",
    "d = data\n",
    "for ref in h[0:len(h)-1]:\n",
    "    d = data[ref]\n",
    "print(d[h[len(h)-1]])"
   ]
  }
 ],
 "metadata": {
  "kernelspec": {
   "display_name": "Python 3",
   "language": "python",
   "name": "python3"
  },
  "language_info": {
   "codemirror_mode": {
    "name": "ipython",
    "version": 3
   },
   "file_extension": ".py",
   "mimetype": "text/x-python",
   "name": "python",
   "nbconvert_exporter": "python",
   "pygments_lexer": "ipython3",
   "version": "3.5.2"
  }
 },
 "nbformat": 4,
 "nbformat_minor": 2
}
