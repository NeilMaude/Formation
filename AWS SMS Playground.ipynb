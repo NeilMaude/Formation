{
 "cells": [
  {
   "cell_type": "markdown",
   "metadata": {},
   "source": [
    "# Playground for AWS SMS service"
   ]
  },
  {
   "cell_type": "markdown",
   "metadata": {},
   "source": [
    "The `boto3` package is used for AWS functions"
   ]
  },
  {
   "cell_type": "code",
   "execution_count": null,
   "metadata": {},
   "outputs": [],
   "source": [
    "# !pip install boto3"
   ]
  },
  {
   "cell_type": "code",
   "execution_count": 4,
   "metadata": {},
   "outputs": [],
   "source": [
    "import boto3"
   ]
  },
  {
   "cell_type": "code",
   "execution_count": 5,
   "metadata": {},
   "outputs": [],
   "source": [
    "import awskeys"
   ]
  },
  {
   "cell_type": "code",
   "execution_count": 14,
   "metadata": {},
   "outputs": [],
   "source": [
    "AWS_ACCESS_KEY = awskeys.AWS_ACCESS_KEY\n",
    "AWS_SECRET_KEY = awskeys.AWS_SECRET_KEY\n",
    "my_phone =       awskeys.AWS_MY_PHONE_NUMBER "
   ]
  },
  {
   "cell_type": "markdown",
   "metadata": {},
   "source": [
    "The above loads in the API keys for AWS - keeps those keys out of this notebook/Github, but lets me re-use easily..."
   ]
  },
  {
   "cell_type": "markdown",
   "metadata": {},
   "source": [
    "Create a client object:"
   ]
  },
  {
   "cell_type": "code",
   "execution_count": 15,
   "metadata": {},
   "outputs": [],
   "source": [
    "sms = boto3.client(\n",
    "    'sns',\n",
    "    'eu-west-1',\n",
    "    aws_access_key_id=AWS_ACCESS_KEY, \n",
    "    aws_secret_access_key=AWS_SECRET_KEY    )"
   ]
  },
  {
   "cell_type": "markdown",
   "metadata": {},
   "source": [
    "Display some attributes..."
   ]
  },
  {
   "cell_type": "code",
   "execution_count": 16,
   "metadata": {},
   "outputs": [
    {
     "data": {
      "text/plain": [
       "{'ResponseMetadata': {'HTTPHeaders': {'content-length': '586',\n",
       "   'content-type': 'text/xml',\n",
       "   'date': 'Wed, 08 Aug 2018 12:34:21 GMT',\n",
       "   'x-amzn-requestid': '45ce9eab-f235-5bdb-9fc0-cd4f17bbd2fe'},\n",
       "  'HTTPStatusCode': 200,\n",
       "  'RequestId': '45ce9eab-f235-5bdb-9fc0-cd4f17bbd2fe',\n",
       "  'RetryAttempts': 0},\n",
       " 'attributes': {'DefaultSMSType': 'Transactional',\n",
       "  'DefaultSenderID': 'Arena',\n",
       "  'MonthlySpendLimit': '50'}}"
      ]
     },
     "execution_count": 16,
     "metadata": {},
     "output_type": "execute_result"
    }
   ],
   "source": [
    "sms.get_sms_attributes()"
   ]
  },
  {
   "cell_type": "markdown",
   "metadata": {},
   "source": [
    "  Send an SMS..."
   ]
  },
  {
   "cell_type": "code",
   "execution_count": 17,
   "metadata": {},
   "outputs": [
    {
     "data": {
      "text/plain": [
       "{'MessageId': '1f6f39ea-1a20-58cf-886c-6a0effaea1ea',\n",
       " 'ResponseMetadata': {'HTTPHeaders': {'content-length': '294',\n",
       "   'content-type': 'text/xml',\n",
       "   'date': 'Wed, 08 Aug 2018 12:34:22 GMT',\n",
       "   'x-amzn-requestid': '89098932-bc40-5c88-b6b2-dad659ce65ad'},\n",
       "  'HTTPStatusCode': 200,\n",
       "  'RequestId': '89098932-bc40-5c88-b6b2-dad659ce65ad',\n",
       "  'RetryAttempts': 0}}"
      ]
     },
     "execution_count": 17,
     "metadata": {},
     "output_type": "execute_result"
    }
   ],
   "source": [
    "sms.publish(\n",
    "    PhoneNumber = my_phone,\n",
    "    Message = '*Test*. This is an SMS from mstore. Your document is ready at http://mstore.cloud/edmdemo2',\n",
    "    MessageAttributes={\n",
    "        'AWS.SNS.SMS.SenderID': {\n",
    "          'DataType': 'String',\n",
    "          'StringValue': 'Arena'\n",
    "          }\n",
    "        }  \n",
    "    )"
   ]
  },
  {
   "cell_type": "code",
   "execution_count": null,
   "metadata": {},
   "outputs": [],
   "source": []
  },
  {
   "cell_type": "code",
   "execution_count": null,
   "metadata": {},
   "outputs": [],
   "source": []
  }
 ],
 "metadata": {
  "kernelspec": {
   "display_name": "Python 3",
   "language": "python",
   "name": "python3"
  },
  "language_info": {
   "codemirror_mode": {
    "name": "ipython",
    "version": 3
   },
   "file_extension": ".py",
   "mimetype": "text/x-python",
   "name": "python",
   "nbconvert_exporter": "python",
   "pygments_lexer": "ipython3",
   "version": "3.5.2"
  }
 },
 "nbformat": 4,
 "nbformat_minor": 2
}
