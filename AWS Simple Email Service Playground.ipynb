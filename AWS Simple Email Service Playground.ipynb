{
 "cells": [
  {
   "cell_type": "markdown",
   "metadata": {},
   "source": [
    "# Playground for Amazon SES\n",
    "\n",
    "This uses the `boto` package - which is not the same as `boto3`..."
   ]
  },
  {
   "cell_type": "code",
   "execution_count": 1,
   "metadata": {},
   "outputs": [],
   "source": [
    "# !pip install boto"
   ]
  },
  {
   "cell_type": "code",
   "execution_count": 2,
   "metadata": {},
   "outputs": [],
   "source": [
    "import boto.ses"
   ]
  },
  {
   "cell_type": "code",
   "execution_count": 3,
   "metadata": {},
   "outputs": [],
   "source": [
    "import awskeys\n",
    "AWS_ACCESS_KEY = awskeys.AWS_ACCESS_KEY\n",
    "AWS_SECRET_KEY = awskeys.AWS_SECRET_KEY\n",
    "AWS_MY_EMAIL1   = awskeys.AWS_MY_EMAIL1       # Work e-mail\n",
    "AWS_MY_EMAIL2   = awskeys.AWS_MY_EMAIL2       # G-Mail account"
   ]
  },
  {
   "cell_type": "code",
   "execution_count": 8,
   "metadata": {},
   "outputs": [],
   "source": [
    "class Email(object):  \n",
    "    def __init__(self, to, subject):\n",
    "        self.to = to\n",
    "        self.subject = subject\n",
    "        self._html = None\n",
    "        self._text = None\n",
    "        self._format = 'html'\n",
    "\n",
    "    def html(self, html):\n",
    "        self._html = html\n",
    "\n",
    "    def text(self, text):\n",
    "        self._text = text\n",
    "\n",
    "    def send(self, from_addr=None):\n",
    "        body = self._html\n",
    "\n",
    "        if isinstance(self.to, str):\n",
    "            self.to = [self.to]\n",
    "        if not from_addr:\n",
    "            from_addr = 'me@example.com'\n",
    "        if not self._html and not self._text:\n",
    "            raise Exception('You must provide a text or html body.')\n",
    "        if not self._html:\n",
    "            self._format = 'text'\n",
    "            body = self._text\n",
    "\n",
    "        connection = boto.ses.connect_to_region(\n",
    "            'eu-west-1',\n",
    "            aws_access_key_id=AWS_ACCESS_KEY, \n",
    "            aws_secret_access_key=AWS_SECRET_KEY\n",
    "        )\n",
    "\n",
    "        #print ('From: ' + from_addr + ' to ' + str(self.to))\n",
    "        \n",
    "        return connection.send_email(\n",
    "            from_addr,\n",
    "            self.subject,\n",
    "            None,\n",
    "            self.to,\n",
    "            format=self._format,\n",
    "            text_body=self._text,\n",
    "            html_body=self._html\n",
    "        )"
   ]
  },
  {
   "cell_type": "code",
   "execution_count": 9,
   "metadata": {},
   "outputs": [
    {
     "data": {
      "text/plain": [
       "'0102016519dd2134-f499897e-8571-4715-9746-54c1cfe69f4b-000000'"
      ]
     },
     "execution_count": 9,
     "metadata": {},
     "output_type": "execute_result"
    }
   ],
   "source": [
    "# Test sending an e-mail\n",
    "email = Email(to=AWS_MY_EMAIL1, subject='Test-email TXT')  \n",
    "email.text('This is a text body. Test.')  \n",
    "email.send(from_addr=AWS_MY_EMAIL1).MessageId"
   ]
  },
  {
   "cell_type": "code",
   "execution_count": 10,
   "metadata": {},
   "outputs": [
    {
     "data": {
      "text/plain": [
       "{'SendEmailResponse': {'ResponseMetadata': {'RequestId': '63299219-9b14-11e8-b04f-91752afb6e8f'},\n",
       "  'SendEmailResult': {'MessageId': '0102016519dd2d20-b41e63bd-034e-4d8d-a2bd-f8b1fe8eab5b-000000'}}}"
      ]
     },
     "execution_count": 10,
     "metadata": {},
     "output_type": "execute_result"
    }
   ],
   "source": [
    "# Some more examples\n",
    "email = Email(to=AWS_MY_EMAIL1, subject='Test-email HTML')  \n",
    "email.html('<html><body>This is an HTML text body. <strong>Test.</strong></body></html>')  \n",
    "email.send(from_addr=AWS_MY_EMAIL1)\n",
    "\n",
    "email = Email(to=AWS_MY_EMAIL2, subject='Test-email TXT')  \n",
    "email.text('This is a text body. Test.')  \n",
    "email.send(from_addr=AWS_MY_EMAIL1)\n",
    "\n",
    "email = Email(to=AWS_MY_EMAIL2, subject='Test-email HTML')  \n",
    "email.html('<html><body>This is an HTML text body. <strong>Test.</strong></body></html>')  \n",
    "email.send(from_addr=AWS_MY_EMAIL1)  \n",
    "\n",
    "email = Email(to=AWS_MY_EMAIL1, subject='Test-email HTML')  \n",
    "email.html('<html><body>This is an HTML text body. <strong>Test.</strong></body></html>')  \n",
    "email.send(from_addr=AWS_MY_EMAIL2)\n",
    "\n",
    "email = Email(to=AWS_MY_EMAIL1, subject='Test-email HTML')  \n",
    "email.text('This is a text body. Testing whether from/to need to be different - this should work.')  \n",
    "email.send(from_addr=AWS_MY_EMAIL2)\n",
    "\n",
    "email = Email(to=AWS_MY_EMAIL2, subject='Test-email HTML')  \n",
    "email.text('This is a text body. Testing whether from/to need to be different - this should *not* work.')  \n",
    "email.send(from_addr=AWS_MY_EMAIL2) "
   ]
  },
  {
   "cell_type": "code",
   "execution_count": null,
   "metadata": {},
   "outputs": [],
   "source": []
  }
 ],
 "metadata": {
  "kernelspec": {
   "display_name": "Python 3",
   "language": "python",
   "name": "python3"
  },
  "language_info": {
   "codemirror_mode": {
    "name": "ipython",
    "version": 3
   },
   "file_extension": ".py",
   "mimetype": "text/x-python",
   "name": "python",
   "nbconvert_exporter": "python",
   "pygments_lexer": "ipython3",
   "version": "3.5.2"
  }
 },
 "nbformat": 4,
 "nbformat_minor": 2
}
